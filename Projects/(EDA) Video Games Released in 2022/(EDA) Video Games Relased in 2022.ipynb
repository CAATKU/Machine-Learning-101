{
 "cells": [
  {
   "cell_type": "markdown",
   "id": "4fd0326f",
   "metadata": {},
   "source": [
    "## Introduction to the Project\n",
    "\n",
    "### Information on Kaggle\n",
    "Link: https://www.kaggle.com/datasets/mattop/video-games-released-in-2022\n",
    "\n",
    "\n",
    "## Contents\n",
    "\n",
    "PASS\n",
    "\n",
    "\n",
    "## Learning Objectives\n",
    "\n",
    "PASS\n",
    "\n",
    "\n",
    "## Contribution & Support\n",
    "PASS"
   ]
  },
  {
   "cell_type": "code",
   "execution_count": 1,
   "id": "bcab4819",
   "metadata": {},
   "outputs": [],
   "source": [
    "# Import the needed libraries\n",
    "import numpy as np\n",
    "import pandas as pd\n",
    "import matplotlib.pyplot as plt\n",
    "import seaborn as sns\n",
    "\n",
    "# Set some seaborn settings\n",
    "sns.set_style(\"white\")"
   ]
  },
  {
   "cell_type": "code",
   "execution_count": 2,
   "id": "81b6be32-cfce-4704-9d46-249ab707c3a0",
   "metadata": {},
   "outputs": [],
   "source": [
    "# Load the data via GITHUB raw file link\n",
    "data_link = \"https://raw.githubusercontent.com/muhammadanas0716/Machine-Learning-101/main/Projects/(EDA)%20Video%20Games%20Released%20in%202022/video-games-2022.csv\"\n",
    "df_games = pd.read_csv(data_link)"
   ]
  },
  {
   "cell_type": "markdown",
   "id": "1faea71a-ea1f-4c4b-9700-05e52dbcaa72",
   "metadata": {},
   "source": [
    "## Some basic information about our dataset\n",
    "1. First & last 5 rows of our dataset\n",
    "2. Some description\n",
    "3. Some numerical information"
   ]
  },
  {
   "cell_type": "code",
   "execution_count": 3,
   "id": "7756fa48-fd44-495b-a627-4f6b96643b1b",
   "metadata": {},
   "outputs": [
    {
     "data": {
      "text/html": [
       "<div>\n",
       "<style scoped>\n",
       "    .dataframe tbody tr th:only-of-type {\n",
       "        vertical-align: middle;\n",
       "    }\n",
       "\n",
       "    .dataframe tbody tr th {\n",
       "        vertical-align: top;\n",
       "    }\n",
       "\n",
       "    .dataframe thead th {\n",
       "        text-align: right;\n",
       "    }\n",
       "</style>\n",
       "<table border=\"1\" class=\"dataframe\">\n",
       "  <thead>\n",
       "    <tr style=\"text-align: right;\">\n",
       "      <th></th>\n",
       "      <th>Month</th>\n",
       "      <th>Day</th>\n",
       "      <th>Title</th>\n",
       "      <th>Platform(s)</th>\n",
       "      <th>Genre(s)</th>\n",
       "      <th>Developer(s)</th>\n",
       "      <th>Publisher(s)</th>\n",
       "    </tr>\n",
       "  </thead>\n",
       "  <tbody>\n",
       "    <tr>\n",
       "      <th>0</th>\n",
       "      <td>JANUARY</td>\n",
       "      <td>3</td>\n",
       "      <td>Freddi Fish 3: The Case of the Stolen Conch Shell</td>\n",
       "      <td>NS</td>\n",
       "      <td>Adventure</td>\n",
       "      <td>Humongous Entertainment</td>\n",
       "      <td>UFO Interactive Games</td>\n",
       "    </tr>\n",
       "    <tr>\n",
       "      <th>1</th>\n",
       "      <td>JANUARY</td>\n",
       "      <td>3</td>\n",
       "      <td>Putt-Putt Travels Through Time</td>\n",
       "      <td>NS</td>\n",
       "      <td>Adventure</td>\n",
       "      <td>Humongous Entertainment</td>\n",
       "      <td>UFO Interactive Games</td>\n",
       "    </tr>\n",
       "    <tr>\n",
       "      <th>2</th>\n",
       "      <td>JANUARY</td>\n",
       "      <td>4</td>\n",
       "      <td>Deep Rock Galactic</td>\n",
       "      <td>PS4, PS5</td>\n",
       "      <td>First-person shooter</td>\n",
       "      <td>Ghost Ship Games</td>\n",
       "      <td>Coffee Stain Publishing</td>\n",
       "    </tr>\n",
       "    <tr>\n",
       "      <th>3</th>\n",
       "      <td>JANUARY</td>\n",
       "      <td>4</td>\n",
       "      <td>The Pedestrian</td>\n",
       "      <td>XBO, XSX</td>\n",
       "      <td>Puzzle, platform</td>\n",
       "      <td>Skookum Arts LLC</td>\n",
       "      <td>Skookum Arts LLC</td>\n",
       "    </tr>\n",
       "    <tr>\n",
       "      <th>4</th>\n",
       "      <td>JANUARY</td>\n",
       "      <td>6</td>\n",
       "      <td>Demon Gaze Extra</td>\n",
       "      <td>NS, PS4</td>\n",
       "      <td>Role-playing</td>\n",
       "      <td>Cattle Call</td>\n",
       "      <td>Clouded Leopard Entertainment</td>\n",
       "    </tr>\n",
       "  </tbody>\n",
       "</table>\n",
       "</div>"
      ],
      "text/plain": [
       "     Month  Day                                              Title  \\\n",
       "0  JANUARY    3  Freddi Fish 3: The Case of the Stolen Conch Shell   \n",
       "1  JANUARY    3                     Putt-Putt Travels Through Time   \n",
       "2  JANUARY    4                                 Deep Rock Galactic   \n",
       "3  JANUARY    4                                     The Pedestrian   \n",
       "4  JANUARY    6                                   Demon Gaze Extra   \n",
       "\n",
       "  Platform(s)              Genre(s)             Developer(s)  \\\n",
       "0          NS             Adventure  Humongous Entertainment   \n",
       "1          NS             Adventure  Humongous Entertainment   \n",
       "2    PS4, PS5  First-person shooter         Ghost Ship Games   \n",
       "3    XBO, XSX      Puzzle, platform         Skookum Arts LLC   \n",
       "4     NS, PS4          Role-playing              Cattle Call   \n",
       "\n",
       "                    Publisher(s)  \n",
       "0          UFO Interactive Games  \n",
       "1          UFO Interactive Games  \n",
       "2        Coffee Stain Publishing  \n",
       "3               Skookum Arts LLC  \n",
       "4  Clouded Leopard Entertainment  "
      ]
     },
     "execution_count": 3,
     "metadata": {},
     "output_type": "execute_result"
    }
   ],
   "source": [
    "df_games.head()"
   ]
  },
  {
   "cell_type": "code",
   "execution_count": 4,
   "id": "22fd13cc-f055-46d9-9b13-477bb53c26de",
   "metadata": {},
   "outputs": [
    {
     "data": {
      "text/html": [
       "<div>\n",
       "<style scoped>\n",
       "    .dataframe tbody tr th:only-of-type {\n",
       "        vertical-align: middle;\n",
       "    }\n",
       "\n",
       "    .dataframe tbody tr th {\n",
       "        vertical-align: top;\n",
       "    }\n",
       "\n",
       "    .dataframe thead th {\n",
       "        text-align: right;\n",
       "    }\n",
       "</style>\n",
       "<table border=\"1\" class=\"dataframe\">\n",
       "  <thead>\n",
       "    <tr style=\"text-align: right;\">\n",
       "      <th></th>\n",
       "      <th>Month</th>\n",
       "      <th>Day</th>\n",
       "      <th>Title</th>\n",
       "      <th>Platform(s)</th>\n",
       "      <th>Genre(s)</th>\n",
       "      <th>Developer(s)</th>\n",
       "      <th>Publisher(s)</th>\n",
       "    </tr>\n",
       "  </thead>\n",
       "  <tbody>\n",
       "    <tr>\n",
       "      <th>982</th>\n",
       "      <td>DECEMBER</td>\n",
       "      <td>22</td>\n",
       "      <td>Uta no Prince-sama All Star After Secret</td>\n",
       "      <td>NS</td>\n",
       "      <td>Visual novel</td>\n",
       "      <td>Nippon Ichi Software</td>\n",
       "      <td>Broccoli</td>\n",
       "    </tr>\n",
       "    <tr>\n",
       "      <th>983</th>\n",
       "      <td>DECEMBER</td>\n",
       "      <td>22</td>\n",
       "      <td>Valkyrie Profile: Lenneth</td>\n",
       "      <td>PS4, PS5</td>\n",
       "      <td>Role-playing</td>\n",
       "      <td>tri-Ace</td>\n",
       "      <td>Square Enix</td>\n",
       "    </tr>\n",
       "    <tr>\n",
       "      <th>984</th>\n",
       "      <td>DECEMBER</td>\n",
       "      <td>22</td>\n",
       "      <td>Naraka: Bladepoint</td>\n",
       "      <td>XBO</td>\n",
       "      <td>Action-adventure, battle royale</td>\n",
       "      <td>Thunder Fire Universe X Studio</td>\n",
       "      <td>NetEase Games</td>\n",
       "    </tr>\n",
       "    <tr>\n",
       "      <th>985</th>\n",
       "      <td>DECEMBER</td>\n",
       "      <td>23</td>\n",
       "      <td>Sports Story</td>\n",
       "      <td>NS</td>\n",
       "      <td>Adventure, sports</td>\n",
       "      <td>Sidebar Games</td>\n",
       "      <td>Sidebar Games</td>\n",
       "    </tr>\n",
       "    <tr>\n",
       "      <th>986</th>\n",
       "      <td>DECEMBER</td>\n",
       "      <td>28</td>\n",
       "      <td>Hyper Gunsport</td>\n",
       "      <td>PS4, PS5</td>\n",
       "      <td>Action</td>\n",
       "      <td>Necrosoft Games</td>\n",
       "      <td>Necrosoft Games</td>\n",
       "    </tr>\n",
       "  </tbody>\n",
       "</table>\n",
       "</div>"
      ],
      "text/plain": [
       "        Month  Day                                     Title Platform(s)  \\\n",
       "982  DECEMBER   22  Uta no Prince-sama All Star After Secret          NS   \n",
       "983  DECEMBER   22                 Valkyrie Profile: Lenneth    PS4, PS5   \n",
       "984  DECEMBER   22                        Naraka: Bladepoint         XBO   \n",
       "985  DECEMBER   23                              Sports Story          NS   \n",
       "986  DECEMBER   28                            Hyper Gunsport    PS4, PS5   \n",
       "\n",
       "                            Genre(s)                    Developer(s)  \\\n",
       "982                     Visual novel            Nippon Ichi Software   \n",
       "983                     Role-playing                         tri-Ace   \n",
       "984  Action-adventure, battle royale  Thunder Fire Universe X Studio   \n",
       "985                Adventure, sports                   Sidebar Games   \n",
       "986                           Action                 Necrosoft Games   \n",
       "\n",
       "        Publisher(s)  \n",
       "982         Broccoli  \n",
       "983      Square Enix  \n",
       "984    NetEase Games  \n",
       "985    Sidebar Games  \n",
       "986  Necrosoft Games  "
      ]
     },
     "execution_count": 4,
     "metadata": {},
     "output_type": "execute_result"
    }
   ],
   "source": [
    "df_games.tail()"
   ]
  },
  {
   "cell_type": "code",
   "execution_count": 5,
   "id": "fa546c9b-a6ce-4947-bb15-7d9e341ca165",
   "metadata": {},
   "outputs": [
    {
     "data": {
      "text/plain": [
       "(987, 7)"
      ]
     },
     "execution_count": 5,
     "metadata": {},
     "output_type": "execute_result"
    }
   ],
   "source": [
    "# Shape of the dataset\n",
    "df_games.shape"
   ]
  },
  {
   "cell_type": "markdown",
   "id": "8ecd655b-9da1-4476-954f-034560f52bfd",
   "metadata": {},
   "source": [
    "Means that there are 987 rows (instances) and 7 columns (features/predicators)"
   ]
  },
  {
   "cell_type": "code",
   "execution_count": 6,
   "id": "8a752c62-5b30-41c0-b13c-8f196aa22dbb",
   "metadata": {},
   "outputs": [
    {
     "data": {
      "text/html": [
       "<div>\n",
       "<style scoped>\n",
       "    .dataframe tbody tr th:only-of-type {\n",
       "        vertical-align: middle;\n",
       "    }\n",
       "\n",
       "    .dataframe tbody tr th {\n",
       "        vertical-align: top;\n",
       "    }\n",
       "\n",
       "    .dataframe thead th {\n",
       "        text-align: right;\n",
       "    }\n",
       "</style>\n",
       "<table border=\"1\" class=\"dataframe\">\n",
       "  <thead>\n",
       "    <tr style=\"text-align: right;\">\n",
       "      <th></th>\n",
       "      <th>Day</th>\n",
       "    </tr>\n",
       "  </thead>\n",
       "  <tbody>\n",
       "    <tr>\n",
       "      <th>count</th>\n",
       "      <td>987.000000</td>\n",
       "    </tr>\n",
       "    <tr>\n",
       "      <th>mean</th>\n",
       "      <td>16.599797</td>\n",
       "    </tr>\n",
       "    <tr>\n",
       "      <th>std</th>\n",
       "      <td>8.814457</td>\n",
       "    </tr>\n",
       "    <tr>\n",
       "      <th>min</th>\n",
       "      <td>1.000000</td>\n",
       "    </tr>\n",
       "    <tr>\n",
       "      <th>25%</th>\n",
       "      <td>10.000000</td>\n",
       "    </tr>\n",
       "    <tr>\n",
       "      <th>50%</th>\n",
       "      <td>17.000000</td>\n",
       "    </tr>\n",
       "    <tr>\n",
       "      <th>75%</th>\n",
       "      <td>24.000000</td>\n",
       "    </tr>\n",
       "    <tr>\n",
       "      <th>max</th>\n",
       "      <td>31.000000</td>\n",
       "    </tr>\n",
       "  </tbody>\n",
       "</table>\n",
       "</div>"
      ],
      "text/plain": [
       "              Day\n",
       "count  987.000000\n",
       "mean    16.599797\n",
       "std      8.814457\n",
       "min      1.000000\n",
       "25%     10.000000\n",
       "50%     17.000000\n",
       "75%     24.000000\n",
       "max     31.000000"
      ]
     },
     "execution_count": 6,
     "metadata": {},
     "output_type": "execute_result"
    }
   ],
   "source": [
    "df_games.describe()"
   ]
  },
  {
   "cell_type": "markdown",
   "id": "974b06e3-60fc-4d8c-b2a6-5f47d889503e",
   "metadata": {},
   "source": [
    "The only numerical column is the ***day*** column.\n",
    "\n",
    "This shows us that the average day when the game was released was 16th of some month. With ***most*** games being launced before 24th of the month. "
   ]
  },
  {
   "cell_type": "code",
   "execution_count": 7,
   "id": "a3150ef5-e5d2-49d2-a222-cc65e34c653c",
   "metadata": {},
   "outputs": [
    {
     "name": "stdout",
     "output_type": "stream",
     "text": [
      "<class 'pandas.core.frame.DataFrame'>\n",
      "RangeIndex: 987 entries, 0 to 986\n",
      "Data columns (total 7 columns):\n",
      " #   Column        Non-Null Count  Dtype \n",
      "---  ------        --------------  ----- \n",
      " 0   Month         987 non-null    object\n",
      " 1   Day           987 non-null    int64 \n",
      " 2   Title         987 non-null    object\n",
      " 3   Platform(s)   987 non-null    object\n",
      " 4   Genre(s)      987 non-null    object\n",
      " 5   Developer(s)  987 non-null    object\n",
      " 6   Publisher(s)  987 non-null    object\n",
      "dtypes: int64(1), object(6)\n",
      "memory usage: 54.1+ KB\n"
     ]
    }
   ],
   "source": [
    "df_games.info()"
   ]
  },
  {
   "cell_type": "markdown",
   "id": "51c21742-3b7e-4adb-b1d2-227fc8577e4c",
   "metadata": {},
   "source": [
    "This shows us the following:\n",
    "1. No Null/Missing values\n",
    "2. Only one ***integer*** column, else are ***objects/strings***\n",
    "3. Memory usage is aout 54 KB (Dunno why knowing this is necessary)"
   ]
  },
  {
   "cell_type": "markdown",
   "id": "38533e3d-097a-4ec8-9f38-8089cac28daa",
   "metadata": {},
   "source": [
    "# Column Exploration\n",
    "1. Some value counts of the columns\n",
    "2. Basic inferenced made without any relations whatsoever"
   ]
  },
  {
   "cell_type": "code",
   "execution_count": 8,
   "id": "ba3a2370-12d7-492e-b648-46c5c77844c4",
   "metadata": {},
   "outputs": [
    {
     "data": {
      "text/html": [
       "<div>\n",
       "<style scoped>\n",
       "    .dataframe tbody tr th:only-of-type {\n",
       "        vertical-align: middle;\n",
       "    }\n",
       "\n",
       "    .dataframe tbody tr th {\n",
       "        vertical-align: top;\n",
       "    }\n",
       "\n",
       "    .dataframe thead th {\n",
       "        text-align: right;\n",
       "    }\n",
       "</style>\n",
       "<table border=\"1\" class=\"dataframe\">\n",
       "  <thead>\n",
       "    <tr style=\"text-align: right;\">\n",
       "      <th></th>\n",
       "      <th>Month</th>\n",
       "      <th>Day</th>\n",
       "      <th>Title</th>\n",
       "      <th>Platform(s)</th>\n",
       "      <th>Genre(s)</th>\n",
       "      <th>Developer(s)</th>\n",
       "      <th>Publisher(s)</th>\n",
       "    </tr>\n",
       "  </thead>\n",
       "  <tbody>\n",
       "    <tr>\n",
       "      <th>0</th>\n",
       "      <td>JANUARY</td>\n",
       "      <td>3</td>\n",
       "      <td>Freddi Fish 3: The Case of the Stolen Conch Shell</td>\n",
       "      <td>NS</td>\n",
       "      <td>Adventure</td>\n",
       "      <td>Humongous Entertainment</td>\n",
       "      <td>UFO Interactive Games</td>\n",
       "    </tr>\n",
       "  </tbody>\n",
       "</table>\n",
       "</div>"
      ],
      "text/plain": [
       "     Month  Day                                              Title  \\\n",
       "0  JANUARY    3  Freddi Fish 3: The Case of the Stolen Conch Shell   \n",
       "\n",
       "  Platform(s)   Genre(s)             Developer(s)           Publisher(s)  \n",
       "0          NS  Adventure  Humongous Entertainment  UFO Interactive Games  "
      ]
     },
     "execution_count": 8,
     "metadata": {},
     "output_type": "execute_result"
    }
   ],
   "source": [
    "df_games.head(1)"
   ]
  },
  {
   "cell_type": "code",
   "execution_count": 9,
   "id": "b4e27095-f6c6-4505-a5fc-88d4c9b49596",
   "metadata": {},
   "outputs": [
    {
     "data": {
      "text/plain": [
       "<AxesSubplot: >"
      ]
     },
     "execution_count": 9,
     "metadata": {},
     "output_type": "execute_result"
    },
    {
     "data": {
      "image/png": "[encoded data removed]",
      "text/plain": [
       "<Figure size 960x600 with 1 Axes>"
      ]
     },
     "metadata": {},
     "output_type": "display_data"
    }
   ],
   "source": [
    "plt.figure(figsize=(8, 5), dpi=120)\n",
    "df_games[\"Month\"].value_counts(ascending=True).plot()"
   ]
  },
  {
   "cell_type": "code",
   "execution_count": 10,
   "id": "1f79056a-4177-47d2-b89b-a10863b2b380",
   "metadata": {},
   "outputs": [],
   "source": [
    "df_games.sort_values(by=\"Day\", inplace=True)\n",
    "df_games.reset_index(inplace=True)\n",
    "df_games.drop(\"index\", axis=1, inplace=True)"
   ]
  },
  {
   "cell_type": "code",
   "execution_count": 11,
   "id": "cd203a47-2a82-4576-9c1f-8fcd04f2000c",
   "metadata": {},
   "outputs": [
    {
     "data": {
      "text/plain": [
       "<AxesSubplot: >"
      ]
     },
     "execution_count": 11,
     "metadata": {},
     "output_type": "execute_result"
    },
    {
     "data": {
      "image/png": "[encoded data removed]",
      "text/plain": [
       "<Figure size 960x600 with 1 Axes>"
      ]
     },
     "metadata": {},
     "output_type": "display_data"
    }
   ],
   "source": [
    "# Top 10 days for the releasing of games\n",
    "plt.figure(figsize=(8, 5), dpi=120)\n",
    "df_games[\"Day\"].value_counts(ascending=False).nlargest(10).plot(kind=\"bar\")"
   ]
  },
  {
   "cell_type": "code",
   "execution_count": 12,
   "id": "a9829761-e147-43aa-bac4-e7ded9bc21cd",
   "metadata": {},
   "outputs": [
    {
     "data": {
      "text/plain": [
       "NS                                184\n",
       "Win                               125\n",
       "Win, NS, PS4, PS5, XBO, XSX        64\n",
       "Win, PS4, PS5, XBO, XSX            48\n",
       "PS4, PS5                           35\n",
       "                                 ... \n",
       "NS, iOS, Droid                      1\n",
       "Win, XSX                            1\n",
       "Win, PS4, PS5, XBO, XSX, NS         1\n",
       "Win, NS, PS4, XBO, XSX, Stadia      1\n",
       "Win, Mac, XSX, iOS, Droid           1\n",
       "Name: Platform(s), Length: 102, dtype: int64"
      ]
     },
     "execution_count": 12,
     "metadata": {},
     "output_type": "execute_result"
    }
   ],
   "source": [
    "df_games[\"Platform(s)\"].value_counts()"
   ]
  },
  {
   "cell_type": "markdown",
   "id": "ec5430dd",
   "metadata": {},
   "source": [
    "We have a column by the name of `Platforms(s)`, which in raw shape (as it is) is very useless. Most of them are repetitive. Let's try to extract the possible number of `Platforms`. "
   ]
  },
  {
   "cell_type": "code",
   "execution_count": 15,
   "id": "d15edccd-4bf6-4861-98e2-8ec34acce091",
   "metadata": {},
   "outputs": [],
   "source": [
    "platforms = []\n",
    "for row in df_games[\"Platform(s)\"]:\n",
    "    platforms.append(row)\n",
    "\n",
    "platforms_total = [i.strip() for word in platforms for i in word.split(\",\")]\n",
    "platforms_total = np.unique(platforms_total)\n",
    "platforms_total = pd.DataFrame(platforms_total, columns=[\"Platform\"])\n",
    "platforms_total.drop(21, axis=0, inplace=True)\n",
    "platforms_total.drop(0, axis=0, inplace=True)\n",
    "\n"
   ]
  },
  {
   "cell_type": "code",
   "execution_count": null,
   "id": "71b774fb",
   "metadata": {},
   "outputs": [],
   "source": []
  }
 ],
 "metadata": {
  "kernelspec": {
   "display_name": "Python 3 (ipykernel)",
   "language": "python",
   "name": "python3"
  },
  "language_info": {
   "codemirror_mode": {
    "name": "ipython",
    "version": 3
   },
   "file_extension": ".py",
   "mimetype": "text/x-python",
   "name": "python",
   "nbconvert_exporter": "python",
   "pygments_lexer": "ipython3",
   "version": "3.10.6"
  }
 },
 "nbformat": 4,
 "nbformat_minor": 5
}
