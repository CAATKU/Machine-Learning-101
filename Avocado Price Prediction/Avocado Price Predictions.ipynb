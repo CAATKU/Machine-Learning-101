{
 "cells": [
  {
   "cell_type": "markdown",
   "id": "61a5acfd-e7ea-4d15-a3a4-7521e9b14d0a",
   "metadata": {},
   "source": [
    "# Introduction\n",
    "Hey ML fam! Up for a new project? Today, we'll be predicting some avocado prices! It is a well-known fact that Millenials LOVE Avocado Toast. It's also a well-known fact that all Millenials live in their parent's basements.\n",
    "\n",
    "Clearly, they aren't buying a home because they are buying too much Avocado Toast!\n",
    "\n",
    "But maybe there's hope… if a Millenial could find a city with cheap avocados, they could live out the Millenial American Dream.\n",
    "\n",
    "# About Data\n",
    "This data was downloaded from the Hass Avocado Board website in May of 2018 & compiled into a single CSV. Here's how the [Hass Avocado Board describes the data on their website](http://www.hassavocadoboard.com/retail/volume-and-price-data):\n",
    "\n",
    "The table below represents weekly 2018 retail scan data for National retail volume (units) and price. Retail scan data comes directly from retailers’ cash registers based on actual retail sales of Hass avocados. Starting in 2013, the table below reflects an expanded, multi-outlet retail data set. Multi-outlet reporting includes an aggregation of the following channels: grocery, mass, club, drug, dollar, and military. The Average Price (of avocados) in the table reflects a per unit (per avocado) cost, even when multiple units (avocados) are sold in bags. The Product Lookup codes (PLUs) in the table are only for Hass avocados. Other varieties of avocados (e.g. greenskins) are not included in this table.\n",
    "\n",
    "# Evaluation\n",
    "This project is fairly simple, we'll use some measures like RMSE and similar to these metrics.\n",
    "\n",
    "As this is just a dataset (And not a Kaggle competition), we'll take 0.2% of our data as our test set, and the rest shall be our training set.\n",
    "\n",
    "The Dataset / Kaggle Link: https://www.kaggle.com/datasets/neuromusic/avocado-prices"
   ]
  },
  {
   "cell_type": "code",
   "execution_count": 1,
   "id": "dbd8f093-3923-4b78-b6eb-b72bf058710f",
   "metadata": {},
   "outputs": [
    {
     "name": "stdout",
     "output_type": "stream",
     "text": [
      "Import Completed\n"
     ]
    }
   ],
   "source": [
    "# Importing neccasary libraries\n",
    "import numpy as np\n",
    "import pandas as pd\n",
    "import matplotlib.pyplot as plt\n",
    "import seaborn as sns\n",
    "\n",
    "print(\"Import Completed\")"
   ]
  },
  {
   "cell_type": "code",
   "execution_count": null,
   "id": "556c09d8-7098-4eee-992c-8a23359966bf",
   "metadata": {},
   "outputs": [],
   "source": []
  }
 ],
 "metadata": {
  "kernelspec": {
   "display_name": "Python 3 (ipykernel)",
   "language": "python",
   "name": "python3"
  },
  "language_info": {
   "codemirror_mode": {
    "name": "ipython",
    "version": 3
   },
   "file_extension": ".py",
   "mimetype": "text/x-python",
   "name": "python",
   "nbconvert_exporter": "python",
   "pygments_lexer": "ipython3",
   "version": "3.10.6"
  }
 },
 "nbformat": 4,
 "nbformat_minor": 5
}
