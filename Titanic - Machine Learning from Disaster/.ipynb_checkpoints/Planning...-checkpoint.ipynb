{
 "cells": [
  {
   "cell_type": "markdown",
   "id": "34fc3db9",
   "metadata": {},
   "source": [
    "## Introduction to the Project\n",
    "* References\n",
    "* Dataset Information\n",
    "* Some Notebooks\n",
    "\n",
    "#### 1. Refrences\n",
    "This dataset is from Kaggle, under their begginer **Machine Learning** Projects section. And yes indeed, this is a very starightforward and an easy to project to walkthrough, yet giving you a good grasp on the basics of Machine Learning as well as Data Science. However mainly **Machine Learning**.\n",
    "\n",
    "Here is the dataset link: `https://www.kaggle.com/competitions/titanic/data`\n",
    "\n",
    "#### 2. Dataset Information\n",
    "There is nothing much to know about the dataset, it's only the data dictionary you may need which is available on the Kaggle [Project Website](https://www.kaggle.com/competitions/titanic/data). The information on the website is very well explaing the dataset you'll be working with\n",
    "\n",
    "#### 3. Some Notebooks\n",
    "* [A Classy Clash and a Classic Classification 🧊🚢](https://www.kaggle.com/code/chazzer/a-classy-clash-and-a-classic-classification)\n",
    "* [[Score 0.79425] Titanic EDA + Prediction Explained](https://www.kaggle.com/code/rushikeshsawarkar/score-0-79425-titanic-eda-prediction-explained#Titanic-Survival-EDA-and-Prediction-Explained)"
   ]
  },
  {
   "cell_type": "markdown",
   "id": "abe260af",
   "metadata": {},
   "source": [
    "## Project Table of Contents\n",
    "1. Doing some Exploratory Data Analysis (EDA)\n",
    "    * Plotting the visuals\n",
    "    * Looking at the most correlated features on our dataset\n",
    "2. Feature Engineering\n",
    "4. Modelling\n",
    "    * Doing some One Hot Encoding\n",
    "    \n",
    "    * Trying different models out like `Logistic Regression`, `KNN` and `Random Forest`\n",
    "    \n",
    "    * Trying to improve all of these models with `RandomizedSearchCV`, `GridSearchCV` and `XGBoost`\n",
    "    \n",
    "    * Submit the predictions to **Kaggle**"
   ]
  },
  {
   "cell_type": "code",
   "execution_count": null,
   "id": "b6f6159e",
   "metadata": {},
   "outputs": [],
   "source": []
  }
 ],
 "metadata": {
  "kernelspec": {
   "display_name": "Python 3 (ipykernel)",
   "language": "python",
   "name": "python3"
  },
  "language_info": {
   "codemirror_mode": {
    "name": "ipython",
    "version": 3
   },
   "file_extension": ".py",
   "mimetype": "text/x-python",
   "name": "python",
   "nbconvert_exporter": "python",
   "pygments_lexer": "ipython3",
   "version": "3.10.4"
  }
 },
 "nbformat": 4,
 "nbformat_minor": 5
}
