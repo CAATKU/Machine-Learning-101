{
 "cells": [
  {
   "cell_type": "markdown",
   "id": "74f208de",
   "metadata": {},
   "source": [
    "# Python Cheatsheet 101\n",
    "\n",
    "This jupyter notebook covers the most basic principles in Python and presents them in a very simple, yet effective manner! I tried my best to cover the basic pillars of Pyton by including the following topics:\n",
    "\n",
    "1. "
   ]
  }
 ],
 "metadata": {
  "kernelspec": {
   "display_name": "Python 3 (ipykernel)",
   "language": "python",
   "name": "python3"
  },
  "language_info": {
   "codemirror_mode": {
    "name": "ipython",
    "version": 3
   },
   "file_extension": ".py",
   "mimetype": "text/x-python",
   "name": "python",
   "nbconvert_exporter": "python",
   "pygments_lexer": "ipython3",
   "version": "3.10.6"
  }
 },
 "nbformat": 4,
 "nbformat_minor": 5
}
