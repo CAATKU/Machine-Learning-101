{
 "cells": [
  {
   "cell_type": "markdown",
   "id": "7da4af6f",
   "metadata": {},
   "source": [
    "# Python Cheatsheet 101\n",
    "\n",
    "This jupyter notebook covers the most basic principles in Python and presents them in a very simple, yet effective manner! I tried my best to cover the basic pillars of Pyton by including the following topics:\n",
    "\n",
    "1. Print Statments, it's parameters & Comments\n",
    "    * Print function\n",
    "    * `Sep` & `End` parmeters\n",
    "    * Comments\n",
    "2. Data types and Variables\n",
    "    * Integer, Floats, Strings and Booleans\n",
    "    * Single Variable & multiple assignment\n",
    "3. Conditionals\n",
    "    * If Statements\n",
    "    * Switch Case Statements\n",
    "4. Loops\n",
    "    * While Loop\n",
    "    * For Loop\n",
    "    * Nested Loop\n",
    "5. Strings\n",
    "    * Multple ways to assign them\n",
    "    * String slicing\n",
    "    * String methods\n",
    "6. Lists\n",
    "    * Creating lists\n",
    "    * List slicing and iterating\n",
    "    * List methods\n",
    "7. Tuples\n",
    "    * Creating tuples\n",
    "    * Tuple slicing and iterating\n",
    "    * Tuple methods\n",
    "8. Dictionaries\n",
    "    * Creating dictionaries\n",
    "    * Dictionary slicing and iterating\n",
    "    * Dictionary methods\n",
    "9. Sets\n",
    "    * Creating sets\n",
    "    * Set methods\n",
    "10. Functions\n",
    "    * Creating a function, parameters and return\n",
    "    * `*args` & `**kwargs**\n",
    "    * Lambda Function\n",
    "11. Exception Handling\n",
    "    * Dealing with Exceptions\n",
    "12. File Handling\n",
    "    * Opening files\n",
    "    * Reading & Writing from/into files\n",
    "13. Comprehensions\n",
    "    * List Comprehensions\n",
    "    * Dictionary Comprehensions\n",
    "\n",
    "\n",
    "Well, this is it. I won't be covering Object Oriented Concepts as it is a lengthy topic. Will do in another dedicated cheatsheeet."
   ]
  },
  {
   "cell_type": "code",
   "execution_count": null,
   "id": "7f501a66",
   "metadata": {},
   "outputs": [],
   "source": []
  }
 ],
 "metadata": {
  "kernelspec": {
   "display_name": "Python 3 (ipykernel)",
   "language": "python",
   "name": "python3"
  },
  "language_info": {
   "codemirror_mode": {
    "name": "ipython",
    "version": 3
   },
   "file_extension": ".py",
   "mimetype": "text/x-python",
   "name": "python",
   "nbconvert_exporter": "python",
   "pygments_lexer": "ipython3",
   "version": "3.10.6"
  }
 },
 "nbformat": 4,
 "nbformat_minor": 5
}
